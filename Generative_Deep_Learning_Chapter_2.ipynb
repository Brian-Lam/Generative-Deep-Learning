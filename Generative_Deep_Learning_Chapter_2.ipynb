{
  "nbformat": 4,
  "nbformat_minor": 0,
  "metadata": {
    "colab": {
      "provenance": [],
      "authorship_tag": "ABX9TyPeCzsg+5YsoGbVVo8I9zj6",
      "include_colab_link": true
    },
    "kernelspec": {
      "name": "python3",
      "display_name": "Python 3"
    },
    "language_info": {
      "name": "python"
    }
  },
  "cells": [
    {
      "cell_type": "markdown",
      "metadata": {
        "id": "view-in-github",
        "colab_type": "text"
      },
      "source": [
        "<a href=\"https://colab.research.google.com/github/Brian-Lam/Generative-Deep-Learning/blob/main/Generative_Deep_Learning_Chapter_2.ipynb\" target=\"_parent\"><img src=\"https://colab.research.google.com/assets/colab-badge.svg\" alt=\"Open In Colab\"/></a>"
      ]
    },
    {
      "cell_type": "code",
      "execution_count": null,
      "metadata": {
        "id": "Hg7xdlvVaL9b"
      },
      "outputs": [],
      "source": [
        "import numpy as np\n",
        "from tensorflow.keras import datasets, utils\n",
        "\n",
        "# In this case, x is the features (images from the dataset), and\n",
        "# y is the classification label. x_train is particularly interesting,\n",
        "# it is a tensor (multi dimensional array) of shape [50,000, 32, 32, 3]:\n",
        "#\n",
        "# - 50,000 images\n",
        "# - 32 pixels x 32 pixels\n",
        "# - 3 channels per pixel (RGB)\n",
        "# - Each channel has a value from 0 to 255\n",
        "#\n",
        "# The value of each dataset\n",
        "(x_train, y_train), (x_test, y_test) = datasets.cifar10.load_data()\n",
        "# CIFAR-10 dataset contains 10 classifications\n",
        "NUM_CLASSES = 10\n",
        "\n",
        "## Normalize the RGB values by dividing them by 255\n",
        "x_train = x_train.astype('float32') / 255.0\n",
        "y_test = x_test.astype('float32') / 255.0\n",
        "\n",
        "y_train = utils.to_categorical(y_train, NUM_CLASSES)\n",
        "y_test = utils.to_categorical(y_test, NUM_CLASSES)\n"
      ]
    }
  ]
}